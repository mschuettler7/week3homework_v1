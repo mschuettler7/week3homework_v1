{
 "cells": [
  {
   "cell_type": "code",
   "execution_count": 2,
   "id": "05d1179d-9204-46c2-a0b1-347c73542c3a",
   "metadata": {},
   "outputs": [],
   "source": [
    "# assign variables \n",
    "Chicago_murders = 762\n",
    "Chicago_pop = 2_705_000\n",
    "LA_murders = 294\n",
    "LA_pop = 3_976_000\n",
    "NYC_murders = 334\n",
    "NYC_pop = 8_538_000\n",
    "SanJose_murders = 47 \n",
    "SanJose_pop = 1_025_000\n"
   ]
  },
  {
   "cell_type": "code",
   "execution_count": 6,
   "id": "b1b3a2f5-305f-40ed-8d1e-a2a55e7d89e7",
   "metadata": {},
   "outputs": [],
   "source": [
    "# Calculate murder rate per 100K people "
   ]
  },
  {
   "cell_type": "code",
   "execution_count": 56,
   "id": "4e8c740b-e5d0-4040-9688-380eb826dbd6",
   "metadata": {
    "scrolled": true
   },
   "outputs": [],
   "source": [
    "Chicago_result = (Chicago_murders/Chicago_pop) * 100_000 "
   ]
  },
  {
   "cell_type": "code",
   "execution_count": 60,
   "id": "53bc7252-c69f-4329-9d67-6cbc04543d5f",
   "metadata": {},
   "outputs": [
    {
     "data": {
      "text/plain": [
       "28.170055452865068"
      ]
     },
     "execution_count": 60,
     "metadata": {},
     "output_type": "execute_result"
    }
   ],
   "source": [
    "Chicago_result"
   ]
  },
  {
   "cell_type": "code",
   "execution_count": 44,
   "id": "e814e05c-5e90-4c6b-983a-9ff4e9940f2f",
   "metadata": {},
   "outputs": [],
   "source": [
    "LA_result = (LA_murders/LA_pop) * 100_000 "
   ]
  },
  {
   "cell_type": "code",
   "execution_count": 58,
   "id": "2c6dfc6f-a53c-4f49-b4f7-40b7718488e5",
   "metadata": {},
   "outputs": [
    {
     "data": {
      "text/plain": [
       "7.394366197183098"
      ]
     },
     "execution_count": 58,
     "metadata": {},
     "output_type": "execute_result"
    }
   ],
   "source": [
    "LA_result"
   ]
  },
  {
   "cell_type": "code",
   "execution_count": 46,
   "id": "90e1d605-cf18-47f7-a17b-c9b1464eaec7",
   "metadata": {},
   "outputs": [],
   "source": [
    "NYC_result = (NYC_murders/NYC_pop) * 100_000 "
   ]
  },
  {
   "cell_type": "code",
   "execution_count": 62,
   "id": "4247f04c-4a20-4d1e-8af4-e3c0a4d65363",
   "metadata": {},
   "outputs": [
    {
     "data": {
      "text/plain": [
       "3.911923167018037"
      ]
     },
     "execution_count": 62,
     "metadata": {},
     "output_type": "execute_result"
    }
   ],
   "source": [
    "NYC_result"
   ]
  },
  {
   "cell_type": "code",
   "execution_count": 48,
   "id": "0b3a9d17-be87-468c-a92c-0a50d2e6d435",
   "metadata": {},
   "outputs": [],
   "source": [
    "SanJose_result = (SanJose_murders/SanJose_pop)*100_000"
   ]
  },
  {
   "cell_type": "code",
   "execution_count": 64,
   "id": "093a0202-9433-459f-8dda-bf0c6da6f158",
   "metadata": {},
   "outputs": [
    {
     "data": {
      "text/plain": [
       "4.585365853658536"
      ]
     },
     "execution_count": 64,
     "metadata": {},
     "output_type": "execute_result"
    }
   ],
   "source": [
    "SanJose_result"
   ]
  },
  {
   "cell_type": "code",
   "execution_count": 68,
   "id": "6c675e07-ee20-4563-8ef5-e16c2ea589ff",
   "metadata": {},
   "outputs": [
    {
     "name": "stdout",
     "output_type": "stream",
     "text": [
      " Chicago has a murder rate of 28.17 per 100 K, while New York has a rate of 3.91.\n"
     ]
    }
   ],
   "source": [
    "# using f strings, print the sentence: \n",
    "print(f\" Chicago has a murder rate of {Chicago_result:.2F} per 100 K, while New York has a rate of {NYC_result:.2F}.\")"
   ]
  },
  {
   "cell_type": "code",
   "execution_count": null,
   "id": "8a3209d0-8fd8-4413-8513-78eb90fc9a8e",
   "metadata": {},
   "outputs": [],
   "source": []
  }
 ],
 "metadata": {
  "kernelspec": {
   "display_name": "Python [conda env:base] *",
   "language": "python",
   "name": "conda-base-py"
  },
  "language_info": {
   "codemirror_mode": {
    "name": "ipython",
    "version": 3
   },
   "file_extension": ".py",
   "mimetype": "text/x-python",
   "name": "python",
   "nbconvert_exporter": "python",
   "pygments_lexer": "ipython3",
   "version": "3.12.7"
  }
 },
 "nbformat": 4,
 "nbformat_minor": 5
}
